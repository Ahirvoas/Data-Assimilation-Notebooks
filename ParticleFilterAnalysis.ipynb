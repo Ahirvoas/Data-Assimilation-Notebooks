{
 "cells": [
  {
   "cell_type": "markdown",
   "metadata": {},
   "source": [
    "# Illustration of a particle filter analysis\n",
    "\n",
    "Our physical system is described by two variables. In the cell below, we form an ensemble of possible realizations of this system, based on prior statistical parameters."
   ]
  },
  {
   "cell_type": "code",
   "execution_count": 79,
   "metadata": {
    "collapsed": false
   },
   "outputs": [
    {
     "data": {
      "text/plain": [
       "[<matplotlib.lines.Line2D at 0x1145021d0>]"
      ]
     },
     "execution_count": 79,
     "metadata": {},
     "output_type": "execute_result"
    },
    {
     "data": {
      "image/png": "[encoded data removed]",
      "text/plain": [
       "<matplotlib.figure.Figure at 0x1056f2490>"
      ]
     },
     "metadata": {},
     "output_type": "display_data"
    }
   ],
   "source": [
    "import numpy as np\n",
    "import matplotlib.pyplot as plt\n",
    "%matplotlib inline\n",
    "\n",
    "mu = np.zeros(2)\n",
    "pmat = np.array([[1., 0.5], [0.5, 1.]])\n",
    "Nmem = 200\n",
    "xxb = np.random.multivariate_normal( mu, pmat, Nmem )\n",
    "plt.plot(xxb[:,0], xxb[:,1], 'o')"
   ]
  },
  {
   "cell_type": "markdown",
   "metadata": {},
   "source": [
    "Below we define functions to perform a particle filter analysis."
   ]
  },
  {
   "cell_type": "code",
   "execution_count": 113,
   "metadata": {
    "collapsed": false
   },
   "outputs": [],
   "source": [
    "def likelihood(y_in, yo_in, Ro_in):\n",
    "    innovation = yo_in - y_in\n",
    "    invRo = np.linalg.inv(Ro_in)\n",
    "    xtmp = np.dot(invRo, innovation)\n",
    "    xtmp = -0.5 * np.dot(innovation, xtmp)\n",
    "    xtmp = np.exp(xtmp)\n",
    "    return xtmp\n",
    "\n",
    "def particle_filter_analysis(xxb_in, Ho_in, yo_in, Ro_in):\n",
    "    \"\"\"Perform particle filter analysis\"\"\"\n",
    "    Nm = np.shape(xxb_in)[0]\n",
    "    \n",
    "    ## Computation of weights\n",
    "    weight = np.zeros(Nm)\n",
    "    yyb = np.inner(Ho_in, xxb_in)\n",
    "    for i in range(Nm):\n",
    "        weight[i] = likelihood( yyb[:,i], yo_in, Ro_in )\n",
    "    weight /= np.sum(weight)\n",
    "    \n",
    "    ## Resampling (Kitagawa method), not including dispersion\n",
    "    indices=[0]*Nm\n",
    "    cdf = np.zeros(Nm)\n",
    "    for i in range(Nm):\n",
    "        cdf[i] = np.sum(weight[:i+1])\n",
    "    urand = np.random.random()/Nm\n",
    "    for i in range(Nm):\n",
    "        indices[i] = np.searchsorted(cdf, urand)\n",
    "        urand += 1./Nm\n",
    "    xxa_out = xxb_in[indices,:]\n",
    "#    print indices\n",
    "    return xxa_out"
   ]
  },
  {
   "cell_type": "markdown",
   "metadata": {},
   "source": [
    "The gauss2D function below is for plots only."
   ]
  },
  {
   "cell_type": "code",
   "execution_count": 81,
   "metadata": {
    "collapsed": false
   },
   "outputs": [],
   "source": [
    "def gauss2D(x_in, y_in, mu, mat, dx):\n",
    "    \"\"\"Compute 2D Gaussian function.\n",
    "    x and y are meshgrid arrays.\"\"\"\n",
    "    gout = np.zeros_like(x_in)\n",
    "    gs = np.shape(gout)\n",
    "    invmat = np.linalg.inv(mat)\n",
    "    for j in range(gs[1]):\n",
    "        for i in range(gs[0]):\n",
    "            xtmp = np.array([ x_in[i,j], y_in[i,j] ])\n",
    "            xtmp = xtmp - mu\n",
    "            xtmp2 = np.dot(invmat, xtmp)\n",
    "            xtmp = np.dot(xtmp,xtmp2)\n",
    "            xtmp = -0.5 * xtmp\n",
    "            xtmp = np.exp(xtmp)\n",
    "            gout[i,j] = xtmp\n",
    "    intgs = np.sum(gout)*dx\n",
    "    gout /= intgs\n",
    "    return gout"
   ]
  },
  {
   "cell_type": "markdown",
   "metadata": {},
   "source": [
    "We process a newly acquired observation of the system, noted yo with covariance matrix Ro, with a particle filter analysis. On the figure, the selected particle are in red. The observation probability density is shaded in grey. Note that without dispersion, many analysed particles are equal to each other."
   ]
  },
  {
   "cell_type": "code",
   "execution_count": 114,
   "metadata": {
    "collapsed": false
   },
   "outputs": [
    {
     "data": {
      "image/png": "[encoded data removed]",
      "text/plain": [
       "<matplotlib.figure.Figure at 0x115466050>"
      ]
     },
     "metadata": {},
     "output_type": "display_data"
    }
   ],
   "source": [
    "Ho = np.eye(2)\n",
    "yo = np.array([1.5, 1.5])\n",
    "Ro = 0.09*np.eye(2)\n",
    "xxa = particle_filter_analysis(xxb, Ho, yo, Ro)\n",
    "\n",
    "X = np.arange(-1., 4., 0.25)\n",
    "Y = np.arange(-1., 4., 0.25)\n",
    "X, Y = np.meshgrid(X, Y)\n",
    "Z = gauss2D(X, Y, yo, Ro, 0.25)\n",
    "plt.figure()\n",
    "plt.plot(xxb[:,0], xxb[:,1], 'bo', markersize=6)\n",
    "plt.plot(xxa[:,0], xxa[:,1], 'ro', markersize=6)\n",
    "plt.contourf(X,Y,Z,cmap='Greys')\n",
    "plt.plot(yo[0], yo[1], 'ks', markersize=8)\n",
    "plt.show()"
   ]
  },
  {
   "cell_type": "code",
   "execution_count": null,
   "metadata": {
    "collapsed": true
   },
   "outputs": [],
   "source": []
  }
 ],
 "metadata": {
  "kernelspec": {
   "display_name": "Python 2",
   "language": "python",
   "name": "python2"
  },
  "language_info": {
   "codemirror_mode": {
    "name": "ipython",
    "version": 2
   },
   "file_extension": ".py",
   "mimetype": "text/x-python",
   "name": "python",
   "nbconvert_exporter": "python",
   "pygments_lexer": "ipython2",
   "version": "2.7.10"
  }
 },
 "nbformat": 4,
 "nbformat_minor": 0
}
