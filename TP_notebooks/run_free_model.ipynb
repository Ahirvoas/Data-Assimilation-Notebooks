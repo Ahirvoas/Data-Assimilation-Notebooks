{
 "cells": [
  {
   "cell_type": "markdown",
   "metadata": {},
   "source": [
    "# Practical training - Free model run \n",
    "\n",
    "## Burgers' equation\n",
    "\n",
    "Let consider the inviscid Burgers' equation:\n",
    "$$\\begin{aligned}\n",
    "\\frac{\\partial u}{\\partial t} + \\frac{\\partial}{\\partial x}\\frac{u^2}{2} =0 \\qquad x\\in ]0,L[ , \\; t>0\n",
    "\\end{aligned}$$\n",
    " \n",
    "with periodic limit conditions: $u(0,t)=u(L,t)$, and the initial condition \n",
    "is a sinusoid  $u(x,0)=\\sin 2\\pi x$.\n",
    "\n",
    "\n",
    "One discretizes this equation using a finite difference method on a regular grid with steps of $\\Delta x$ in space and $\\Delta t$ in time. Let note $u^{n}_{j}$ the approximation of $u(j\\Delta x, n\\Delta t)$, and let's make use of the Lax-Friedrich scheme:\n",
    " $$\\begin{aligned}\n",
    " \\frac{u^{n+1}_{j}-\\frac{1}{2}(u^{n}_{j-1}+u^{n}_{j+1})}{\\Delta t}+\\frac{ \\frac{1}{2} ({u^{n}_{j+1}})^2 - \\frac{1}{2} ({u^{n}_{j-1}})^2}{2\\Delta x}=0\n",
    " \\end{aligned}$$\n",
    "\n",
    "The explicit form of the equation is then:\n",
    " $$\\begin{aligned}\n",
    " u^{n+1}_{j}=\\frac{1}{2}(u^{n}_{j-1}+u^{n}_{j+1})+\\frac{\\Delta t}{4\\Delta x}(({u^{n}_{j-1}})^2-({u^{n}_{j+1}})^2)\n",
    " \\end{aligned}$$\n",
    " \n",
    "This is coded in `burgers.py`"
   ]
  },
  {
   "cell_type": "code",
   "execution_count": null,
   "metadata": {
    "collapsed": true
   },
   "outputs": [],
   "source": [
    "from burgers import *"
   ]
  },
  {
   "cell_type": "markdown",
   "metadata": {},
   "source": [
    "Below is an example on how to initialize the Burgers' equation model"
   ]
  },
  {
   "cell_type": "code",
   "execution_count": null,
   "metadata": {
    "collapsed": true
   },
   "outputs": [],
   "source": [
    "import numpy as np\n",
    "# Space-time domain\n",
    "nx = 40                     # number of grid points\n",
    "dx = 1./nx                  # space step\n",
    "xx = np.array(range(nx))*dx # grid points abscissa\n",
    "dt = 0.5*dx                 # time step\n",
    "nt = 20                     # number of time steps\n",
    "ns = 0                      # numerical scheme\n",
    "\n",
    "# Initialize the model object\n",
    "model=Burgers(nx,dx,dt,ns)\n",
    "# Setup of initial field uu\n",
    "uu=np.sin(2.*np.pi*xx)\n",
    "umat=list()\n",
    "umat.append(uu)                     # Storage for future plot\n"
   ]
  },
  {
   "cell_type": "markdown",
   "metadata": {},
   "source": [
    "From this the (object) `model` can be integrated forward in time using its method `step`"
   ]
  },
  {
   "cell_type": "code",
   "execution_count": null,
   "metadata": {
    "collapsed": true
   },
   "outputs": [],
   "source": [
    "# Reference trajectory\n",
    "\n",
    "for it in range(nt):\n",
    "    uu=model.step(uu)\n",
    "    umat.append(uu)\n"
   ]
  },
  {
   "cell_type": "markdown",
   "metadata": {},
   "source": [
    "The full trajectory being stored in umat, one can create an animation"
   ]
  },
  {
   "cell_type": "code",
   "execution_count": null,
   "metadata": {
    "collapsed": true
   },
   "outputs": [],
   "source": [
    "# plot\n",
    "\n",
    "import matplotlib.pyplot as plt\n",
    "from matplotlib.animation import FuncAnimation\n",
    "from plots import animator\n",
    "\n",
    "plt.rcParams[\"animation.html\"] = \"jshtml\"\n",
    "fig, ax = plt.subplots()\n",
    "\n",
    "anim=animator(xx,ax=ax,trajectories=umat,colors=['k-'],legends=['Truth'])\n",
    "FuncAnimation(fig, anim.update, np.arange(nt),\n",
    "                    init_func=anim.init)"
   ]
  }
 ],
 "metadata": {
  "kernelspec": {
   "display_name": "Python 3",
   "language": "python",
   "name": "python3"
  },
  "language_info": {
   "codemirror_mode": {
    "name": "ipython",
    "version": 3
   },
   "file_extension": ".py",
   "mimetype": "text/x-python",
   "name": "python",
   "nbconvert_exporter": "python",
   "pygments_lexer": "ipython3",
   "version": "3.6.2"
  }
 },
 "nbformat": 4,
 "nbformat_minor": 2
}
