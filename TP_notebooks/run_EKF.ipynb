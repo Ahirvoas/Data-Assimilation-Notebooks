{
 "cells": [
  {
   "cell_type": "markdown",
   "metadata": {},
   "source": [
    "# Practical training - Filtering Method\n",
    "\n",
    "## Time integration\n",
    "\n",
    "From the BLUE Analysis, model state and error covarance matrices are transperted in time by the model following the Kalman equations"
   ]
  },
  {
   "cell_type": "markdown",
   "metadata": {},
   "source": [
    "### Initialisation"
   ]
  },
  {
   "cell_type": "code",
   "execution_count": null,
   "metadata": {
    "collapsed": true
   },
   "outputs": [],
   "source": [
    "from gausscov import *\n",
    "from analyseKF import *\n",
    "from burgers import *\n",
    "from obsopt import *\n",
    "from plots import *\n",
    "\n",
    "import numpy as np\n",
    "import math"
   ]
  },
  {
   "cell_type": "code",
   "execution_count": null,
   "metadata": {
    "collapsed": true
   },
   "outputs": [],
   "source": [
    "# Space-time domain\n",
    "nx = 40                     # number of grid points\n",
    "dx = 1./nx                  # space step\n",
    "xx = np.array(range(nx))*dx # grid points abscissa\n",
    "dt = 0.5*dx                 # time step\n",
    "nt = 40                     # number of time steps\n",
    "ns = 0                      # numerical scheme\n",
    "\n",
    "M=Burgers(nx,dx,dt,ns)"
   ]
  },
  {
   "cell_type": "code",
   "execution_count": null,
   "metadata": {
    "collapsed": true
   },
   "outputs": [],
   "source": [
    "# Error staristics\n",
    "sigmab = 0.01              # background state error std\n",
    "sigmao = 0.01             # Observation error std\n",
    "Lb = 0.05                  # Correlation length for B matrix\n",
    "\n",
    "# Assimilation Parameters\n",
    "\n",
    "iobstsub = 5                # Frequency of temporal subsampling of observations, [1:nt], 1=every time step\n",
    "iobsxsub = 8                # Frequency of spatial subsampling of observations, [1:nx], 1=every space step\n",
    "\n",
    "# Observation operator and error covariance matrix\n",
    "\n",
    "H = Obsopt(nx,iobsxsub,nt,iobstsub)\n",
    "R = sigmao*sigmao*np.eye(H.nobs,H.nobs)"
   ]
  },
  {
   "cell_type": "code",
   "execution_count": null,
   "metadata": {
    "collapsed": true
   },
   "outputs": [],
   "source": [
    "# Initialization of true field uo and true trajectory\n",
    "uo=np.sin(2*math.pi*xx);\n",
    "true=H.gen_obs(M,uo,sigmao)\n",
    "\n",
    "# Initialization of background\n",
    "ub=np.cos(2*math.pi*xx)\n",
    "ubkg=[ub]\n",
    "for it in range(nt):\n",
    "    ub=M.step(ub)\n",
    "    ubkg.append(ub)"
   ]
  },
  {
   "cell_type": "markdown",
   "metadata": {},
   "source": [
    "### Setting up the initial covariance matrices"
   ]
  },
  {
   "cell_type": "code",
   "execution_count": null,
   "metadata": {
    "collapsed": true
   },
   "outputs": [],
   "source": [
    "# Initialization of Pf matrix and its sqare root\n",
    "    \n",
    "B = gausscov(nx,sigmab,Lb,2)\n",
    "P = B.mat\n",
    "S = B.sqr\n",
    "uu=ubkg[0]\n",
    "uana=[]\n",
    "ufor=[np.real(uu)]\n",
    "Pfmat=[np.real(np.diag(P))]\n",
    "Pamat=[]"
   ]
  },
  {
   "cell_type": "markdown",
   "metadata": {},
   "source": [
    "### Performing the time intergation and analyses"
   ]
  },
  {
   "cell_type": "code",
   "execution_count": null,
   "metadata": {
    "collapsed": true
   },
   "outputs": [],
   "source": [
    "#------------  KALMAN FILTER   ----------------------\n",
    "# -------------------------------------------------------\n",
    "# --- TIME LOOP ---\n",
    "for it in range(nt):\n",
    "\n",
    "    # -- ANALYSIS ---------------------------------\n",
    "    \n",
    "    if H.isobserved(it):\n",
    "  \n",
    "        up=uu\n",
    "        Sp=S\n",
    "        uu,S=analyseKF(up,Sp,H.mat,H.yo[it],R)\n",
    "        \n",
    "    uana.append(np.real(uu))\n",
    "    Pamat.append(np.real(np.diag(np.dot(S,S.T))))\n",
    "\n",
    "  \n",
    "    # -- FORECAST ------------------------------\n",
    "    # Mean state\n",
    "    up=uu\n",
    "    uu=M.step(up)\n",
    "    # Error modes (square root of cov. matrix)\n",
    "    for imem in range(nx):\n",
    "        uerrp = up + S[:,imem]\n",
    "        uerr = M.step(uerrp)\n",
    "        S[:,imem]=uerr-uu\n",
    "  \n",
    "    ufor.append(np.real(uu))\n",
    "    Pfmat.append(np.real(np.diag(np.dot(S,S.T))))\n",
    "    \n",
    "# --- END OF TIME LOOP ---\n",
    "# Last analysis, if obs exists after the last time step:\n",
    "if H.isobserved(nt):\n",
    "    up=uu\n",
    "    Sp=S\n",
    "    uu,S=analyseKF(up,Sp,H.mat,H.yo[nt],R)\n",
    "\n",
    "uana.append(np.real(uu))\n",
    "Pamat.append(np.real(np.diag(np.dot(S,S.T))))\n",
    "\n",
    "P=np.dot(S,S.T) # For P diagnostics if desired"
   ]
  },
  {
   "cell_type": "markdown",
   "metadata": {},
   "source": [
    "### Plotting"
   ]
  },
  {
   "cell_type": "code",
   "execution_count": null,
   "metadata": {
    "collapsed": true
   },
   "outputs": [],
   "source": [
    "# plot\n",
    "\n",
    "import matplotlib.pyplot as plt\n",
    "from matplotlib.animation import FuncAnimation\n",
    "from plots import animator\n",
    "\n",
    "plt.rcParams[\"animation.html\"] = \"jshtml\"\n",
    "fig, ax = plt.subplots()\n",
    "\n",
    "print('black: truth           blue: background          red: analysis          green: forecast')\n",
    "anim=animator(xx,ax=ax,trajectories=[true,ubkg,uana,ufor],legends=['True','Background','Analysis','Forecast'])\n",
    "FuncAnimation(fig, anim.update, np.arange(nt),\n",
    "                    init_func=anim.init)"
   ]
  },
  {
   "cell_type": "code",
   "execution_count": null,
   "metadata": {
    "collapsed": true
   },
   "outputs": [],
   "source": [
    "fig, ax = plt.subplots()\n",
    "\n",
    "true_err=[]\n",
    "ubkg_err=[]\n",
    "ufor_err=[]\n",
    "Pamat_res=[]\n",
    "\n",
    "for i in range(nt+1):\n",
    "    true_err.append(uana[i]-true[i])\n",
    "    ubkg_err.append(uana[i]-ubkg[i])\n",
    "    ufor_err.append(uana[i]-ufor[i])\n",
    "    Pamat_res.append(Pamat[i]/(sigmab*sigmab))\n",
    "\n",
    "print('black: Analysis-reference           blue: Analysis-background')\n",
    "anim=animator(xx,ax=ax,trajectories=[true_err,ubkg_err],legends=['Analysis-reference','Analysis-background'])\n",
    "FuncAnimation(fig, anim.update, np.arange(nt),\n",
    "                    init_func=anim.init)"
   ]
  },
  {
   "cell_type": "code",
   "execution_count": null,
   "metadata": {
    "collapsed": true
   },
   "outputs": [],
   "source": [
    "fig, ax = plt.subplots()\n",
    "\n",
    "print('black: Analysis-forecast           blue: Analysis variance(rescaled by $\\sigma_b^2$)')\n",
    "anim=animator(xx,ax=ax,trajectories=[ufor_err,Pamat_res],legends=['Analysis-forecast','Analysis variance(rescaled by $\\sigma_b^2$)'])\n",
    "FuncAnimation(fig, anim.update, np.arange(nt),\n",
    "                    init_func=anim.init)"
   ]
  },
  {
   "cell_type": "code",
   "execution_count": null,
   "metadata": {
    "collapsed": true
   },
   "outputs": [],
   "source": [
    "%matplotlib notebook\n",
    "from IPython.display import clear_output, display, HTML\n",
    "\n",
    "import matplotlib.pyplot as plt\n",
    "from matplotlib.colors import BoundaryNorm\n",
    "from matplotlib.ticker import MaxNLocator\n",
    "\n",
    "f, axarr = plt.subplots(2, 2)\n",
    "\n",
    "axarr[0, 0].plot(xx,true[nt],'k-')\n",
    "axarr[0, 0].plot(xx,ubkg[nt],'b-')\n",
    "axarr[0, 0].plot(xx,ufor[nt],'g*')\n",
    "axarr[0, 0].plot(xx,uana[nt],'r-',linewidth=3)\n",
    "axarr[0, 0].plot(np.dot(H.mat,xx),H.yo[nt],'kd')\n",
    "axarr[0, 0].legend(['True','Background','Forecast','Analysis','Observations'])\n",
    "axarr[0, 0].set_title('States at end of experiment')\n",
    "\n",
    "axarr[0, 1].set_title('End of experiment')\n",
    "axarr[0, 1].plot(xx,(uana[nt]-true[nt])**2,'m-',linewidth=3)\n",
    "axarr[0, 1].plot(xx,Pamat[nt]/(sigmab*sigmab),'r-')\n",
    "axarr[0, 1].legend(['Squared analysis error','P$^a$ variance(rescaled by $\\sigma_b^2$)'])\n",
    "\n",
    "rmse=[]\n",
    "tme=[]\n",
    "for i in range(nt+1):\n",
    "    errf=ufor[i]-true[i]\n",
    "    erra=uana[i]-true[i]\n",
    "    rmse.append(np.mean(errf*errf))\n",
    "    tme.append(i)\n",
    "    if np.array_equal(errf,erra):\n",
    "        rmse.append(np.mean(errf*errf))\n",
    "        tme.append(i)\n",
    "        \n",
    "\n",
    "axarr[1, 0].set_title('RMS error vs time')\n",
    "axarr[1, 0].plot(tme,rmse,'g-',linewidth=3)\n",
    "\n",
    "cmap = plt.get_cmap('PiYG')\n",
    "levels = MaxNLocator(nbins=15).tick_values(-np.real(P.max()), np.real(P.max()))\n",
    "norm = BoundaryNorm(levels, ncolors=cmap.N, clip=True)\n",
    "axarr[1, 1].pcolormesh(xx, xx, P,cmap=cmap, norm=norm)\n",
    "axarr[1, 1].set_title('P$^a$')\n",
    "plt.show()"
   ]
  },
  {
   "cell_type": "code",
   "execution_count": null,
   "metadata": {
    "collapsed": true
   },
   "outputs": [],
   "source": []
  }
 ],
 "metadata": {
  "kernelspec": {
   "display_name": "Python 3",
   "language": "python",
   "name": "python3"
  },
  "language_info": {
   "codemirror_mode": {
    "name": "ipython",
    "version": 3
   },
   "file_extension": ".py",
   "mimetype": "text/x-python",
   "name": "python",
   "nbconvert_exporter": "python",
   "pygments_lexer": "ipython3",
   "version": "3.6.2"
  }
 },
 "nbformat": 4,
 "nbformat_minor": 2
}
