{
 "cells": [
  {
   "cell_type": "markdown",
   "metadata": {},
   "source": [
    "# Practical training - Variational Method\n",
    "## Performing the assimilation\n",
    "\n",
    "the data assimilation is done through the minimization of the cost function:\n",
    "$$\n",
    "J(u^0) = J_b(u^0) + J_o(u^0) = \\frac{1}{2}\\, (u^0-u^b)^TB^{-1}(u^0-u^b) + \\frac{1}{2}\\, \\sum_{k=0}^N  (H_k u^k-u^k_{obs})^TR^{-1}(H_k u^k-u^k_{obs})\n",
    "$$\n",
    " \n",
    "with\n",
    " \n",
    "$$\n",
    "B(x_i, x_j) = \\sigma_B^2 \\exp\\left(-\\frac{(x_i-x_j)^2}{2L_B^2}\\right)\n",
    "$$\n",
    " \n",
    "or\n",
    " \n",
    "$$\n",
    "B_{i,j} = \\sigma_B^2 \\exp\\left(-\\frac{((i-j)\\Delta x)^2}{2L_B^2}\\right)\n",
    "$$\n",
    " \n",
    "and\n",
    " \n",
    "$$ R=\\sigma_R^2 Id $$\n"
   ]
  },
  {
   "cell_type": "markdown",
   "metadata": {},
   "source": [
    "### Initialisation"
   ]
  },
  {
   "cell_type": "code",
   "execution_count": null,
   "metadata": {
    "collapsed": true
   },
   "outputs": [],
   "source": [
    "from burgers import *\n",
    "from gausscov import *\n",
    "from simvar import *\n",
    "from obsopt import *\n",
    "from plots import *\n",
    "\n",
    "import numpy as np\n",
    "import scipy.optimize as opt\n",
    "import math\n",
    "\n",
    "\n"
   ]
  },
  {
   "cell_type": "code",
   "execution_count": null,
   "metadata": {
    "collapsed": true
   },
   "outputs": [],
   "source": [
    "# Space-time domain\n",
    "nx = 40                     # number of grid points\n",
    "dx = 1./nx                  # space step\n",
    "xx = np.array(range(nx))*dx # grid points abscissa\n",
    "dt = 0.5*dx                 # time step\n",
    "nt = 20                     # number of time steps\n",
    "ns = 0                      # numerical scheme\n",
    "\n",
    "M=Burgers(nx,dx,dt,ns)\n",
    "\n"
   ]
  },
  {
   "cell_type": "code",
   "execution_count": null,
   "metadata": {
    "collapsed": true
   },
   "outputs": [],
   "source": [
    "# Error staristics\n",
    "sigmab = 0.02              # background state error std\n",
    "sigmao = 0.001             # Observation error std\n",
    "Lb = 0.05                  # Correlation length for B matrix\n",
    "\n",
    "# Assimilation Parameters\n",
    "\n",
    "precond = True             # preconditioning by square root of B (1=yes)\n",
    "iobstsub = 5                # Frequency of temporal subsampling of observations, [1:nt], 1=every time step\n",
    "iobsxsub = 8                # Frequency of spatial subsampling of observations, [1:nx], 1=every space step\n",
    "\n",
    "# Observation operator and error covariance matrix\n",
    "\n",
    "H = Obsopt(nx,iobsxsub,nt,iobstsub)\n",
    "R = sigmao*sigmao*np.eye(H.nobs,H.nobs)\n"
   ]
  },
  {
   "cell_type": "code",
   "execution_count": null,
   "metadata": {
    "collapsed": true
   },
   "outputs": [],
   "source": [
    "# Initialization of true field uo\n",
    "uo=np.sin(2*math.pi*xx);\n",
    "true=H.gen_obs(M,uo,sigmao)\n",
    "\n",
    "# Initialization of background\n",
    "ub=np.cos(2.*math.pi*xx)\n",
    "ubkg=[ub]\n",
    "for it in range(nt):\n",
    "    ub=M.step(ub)\n",
    "    ubkg.append(ub)\n"
   ]
  },
  {
   "cell_type": "markdown",
   "metadata": {},
   "source": [
    "### Creation of variational objects and actual minimisation"
   ]
  },
  {
   "cell_type": "code",
   "execution_count": null,
   "metadata": {
    "collapsed": true
   },
   "outputs": [],
   "source": [
    "# Initialization of B matrix and its inverse\n",
    "\n",
    "if precond:\n",
    "    indic=2\n",
    "else:\n",
    "    indic=1\n",
    "    \n",
    "B=gausscov(nx,sigmab,Lb,indic)\n",
    "\n",
    "# Actual minimisation\n",
    "\n",
    "var=Variational(ubkg[0],nt,B,M,H,R,precond)\n"
   ]
  },
  {
   "cell_type": "code",
   "execution_count": null,
   "metadata": {},
   "outputs": [],
   "source": [
    "uopt=np.zeros(nx)\n",
    "\n",
    "Jini=var.cost(uopt)\n",
    "costj=[Jini]\n",
    "\n",
    "def callback(uu):\n",
    "    costj.append(var.cost(uu))\n",
    "\n",
    "res = opt.minimize(var.cost,uopt,\n",
    "                   method='L-BFGS-B',\n",
    "                   jac=var.grad,\n",
    "                   options={'disp': True, 'gtol': 1e-05, 'maxiter': 10000, 'iprint':100},\n",
    "                   callback=callback)\n",
    "print()\n",
    "print ('In the minimization successful? {}'.format(res.success))\n",
    "print()\n",
    "print ('Initial cost function value: {}'.format(Jini))\n",
    "print()\n",
    "print ('Final cost function value: {}'.format(res.fun))\n",
    "print()\n",
    "print ('Number of iterations: {}'.format(res.nit))\n",
    "print()\n",
    "print ('Final control vector: {}'.format(res.x))\n",
    "print()"
   ]
  },
  {
   "cell_type": "markdown",
   "metadata": {},
   "source": [
    "### Back transform the control vector if needed"
   ]
  },
  {
   "cell_type": "code",
   "execution_count": null,
   "metadata": {
    "collapsed": true
   },
   "outputs": [],
   "source": [
    "if precond:\n",
    "    ua=ubkg[0] + B.sqr.dot(res['x'])\n",
    "else:\n",
    "    ua=ubkg[0] + res['x']\n",
    "\n",
    "uana=[ua]\n",
    "for it in range(nt):\n",
    "    ua=M.step(ua)\n",
    "    uana.append(ua)\n"
   ]
  },
  {
   "cell_type": "markdown",
   "metadata": {},
   "source": [
    "### Plotting"
   ]
  },
  {
   "cell_type": "code",
   "execution_count": null,
   "metadata": {},
   "outputs": [],
   "source": [
    "# plot\n",
    "\n",
    "import matplotlib.pyplot as plt\n",
    "from matplotlib.animation import FuncAnimation\n",
    "from plots import animator\n",
    "\n",
    "plt.rcParams[\"animation.html\"] = \"jshtml\"\n",
    "fig, ax = plt.subplots()\n",
    "\n",
    "print('black: truth           blue: background          red: analysis')\n",
    "anim=animator(xx,ax=ax,trajectories=[true,ubkg,uana],legends=['True','Background','Analysis'])\n",
    "FuncAnimation(fig, anim.update, np.arange(nt),\n",
    "                    init_func=anim.init)"
   ]
  },
  {
   "cell_type": "code",
   "execution_count": null,
   "metadata": {},
   "outputs": [],
   "source": [
    "%matplotlib notebook\n",
    "from IPython.display import clear_output, display, HTML\n",
    "\n",
    "import matplotlib.pyplot as plt\n",
    "from matplotlib.colors import BoundaryNorm\n",
    "from matplotlib.ticker import MaxNLocator\n",
    "\n",
    "plt.semilogy(range(len(costj)),costj)\n",
    "plt.xlabel('Iterations')\n",
    "plt.ylabel('J')\n",
    "plt.show()"
   ]
  },
  {
   "cell_type": "code",
   "execution_count": null,
   "metadata": {},
   "outputs": [],
   "source": [
    "\n",
    "\n",
    "f, axarr = plt.subplots(2, 2)\n",
    "\n",
    "axarr[0, 0].plot(xx,true[0],'k-')\n",
    "axarr[0, 0].plot(xx,ubkg[0],'b-')\n",
    "axarr[0, 0].plot(xx,uana[0],'r-',linewidth=3)\n",
    "axarr[0, 0].plot(np.dot(H.mat,xx),H.yo[0],'kd')\n",
    "axarr[0, 0].legend(['True','Background','Analysis','Observations'])\n",
    "axarr[0, 0].set_title('States at the begining of experiments')\n",
    "\n",
    "axarr[0, 1].plot(xx,true[nt],'k-')\n",
    "axarr[0, 1].plot(xx,ubkg[nt],'b-')\n",
    "axarr[0, 1].plot(xx,uana[nt],'r-',linewidth=3)\n",
    "axarr[0, 1].plot(np.dot(H.mat,xx),H.yo[nt],'kd')\n",
    "axarr[0, 1].legend(['True','Background','Analysis','Observations'])\n",
    "axarr[0, 1].set_title('States at the end of experiments')\n",
    "\n",
    "axarr[1, 0].set_title('Errors at the begining of experiments')\n",
    "axarr[1, 0].plot(xx,(ubkg[0]-true[0])**2,'b-',linewidth=3)\n",
    "axarr[1, 0].plot(xx,(uana[0]-true[0])**2,'r-',linewidth=3)\n",
    "axarr[1, 0].legend(['Squared background error','Squared analysis error'])\n",
    "    \n",
    "axarr[1, 1].set_title('Errors at the end of experiments')\n",
    "axarr[1, 1].plot(xx,(ubkg[nt]-true[nt])**2,'b-',linewidth=3)\n",
    "axarr[1, 1].plot(xx,(uana[nt]-true[nt])**2,'r-',linewidth=3)\n",
    "axarr[1, 1].legend(['Squared background error','Squared analysis error'])\n",
    "    \n",
    "plt.show()"
   ]
  },
  {
   "cell_type": "code",
   "execution_count": null,
   "metadata": {
    "collapsed": true
   },
   "outputs": [],
   "source": []
  }
 ],
 "metadata": {
  "kernelspec": {
   "display_name": "Python 3",
   "language": "python",
   "name": "python3"
  },
  "language_info": {
   "codemirror_mode": {
    "name": "ipython",
    "version": 3
   },
   "file_extension": ".py",
   "mimetype": "text/x-python",
   "name": "python",
   "nbconvert_exporter": "python",
   "pygments_lexer": "ipython3",
   "version": "3.6.2"
  }
 },
 "nbformat": 4,
 "nbformat_minor": 2
}
