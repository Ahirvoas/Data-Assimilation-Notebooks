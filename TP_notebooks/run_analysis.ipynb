{
 "cells": [
  {
   "cell_type": "markdown",
   "metadata": {},
   "source": [
    "# Practical training - Filtering Method\n",
    "\n",
    "## BLUE analysis\n",
    "\n",
    "This is the base element for the Kalman filter, it will solve \n",
    "\n",
    "$$\\mathbf{x}=\\mathbf{x}^b+\\mathbf{P}_f^{-1}\\mathbf{H}^T\\left[\\mathbf{H}\\mathbf{P_f}\\mathbf{H}^T+\\mathbf{R}\\right]^{-1}$$\n",
    "\n",
    "Here $\\mathbf{P}_f$ is initialised by \n",
    "$$\n",
    "\\mathbf{P}_{f(i,j)}=\\mathbf{B}_{(i,j)} = \\sigma_B^2 \\exp\\left(-\\frac{(x_i-x_j)^2}{2L_B^2}\\right)\n",
    "$$\n",
    " \n",
    "and\n",
    " \n",
    "$$ \\mathbf{R}=\\sigma_R^2 Id $$\n"
   ]
  },
  {
   "cell_type": "markdown",
   "metadata": {},
   "source": [
    "### Initialisation"
   ]
  },
  {
   "cell_type": "code",
   "execution_count": null,
   "metadata": {
    "collapsed": true
   },
   "outputs": [],
   "source": [
    "from gausscov import *\n",
    "from analyseKF import *\n",
    "from burgers import *\n",
    "from obsopt import *\n",
    "\n",
    "import numpy as np\n",
    "import math"
   ]
  },
  {
   "cell_type": "code",
   "execution_count": null,
   "metadata": {
    "collapsed": true
   },
   "outputs": [],
   "source": [
    "# Space-time domain\n",
    "nx = 40                     # number of grid points\n",
    "dx = 1./nx                  # space step\n",
    "xx = np.array(range(nx))*dx # grid points abscissa\n",
    "dt = 0.5*dx                 # time step\n",
    "nt = 20                     # number of time steps\n",
    "ns = 0                      # numerical scheme\n",
    "\n"
   ]
  },
  {
   "cell_type": "code",
   "execution_count": null,
   "metadata": {
    "collapsed": true
   },
   "outputs": [],
   "source": [
    "# Assimilation Parameters\n",
    "\n",
    "# Error staristics\n",
    "sigmab = 0.001              # background state error std\n",
    "sigmao = 0.001             # Observation error std\n",
    "Lb = 0.05                  # Correlation length for B matrix\n",
    "\n",
    "# Observation operator and error covariance matrix\n",
    "\n",
    "iobstsub = 1                # Frequency of temporal subsampling of observations, [1:nt], 1=every time step\n",
    "iobsxsub = 10                # Frequency of spatial subsampling of observations, [1:nx], 1=every space step\n",
    "\n",
    "\n",
    "H = Obsopt(nx,iobsxsub,nt,iobstsub)\n",
    "R = sigmao*sigmao*np.eye(H.nobs,H.nobs)"
   ]
  },
  {
   "cell_type": "code",
   "execution_count": null,
   "metadata": {
    "collapsed": true
   },
   "outputs": [],
   "source": [
    "# Initialization of true field uo\n",
    "uo=np.sin(2*math.pi*xx);\n",
    "yo=np.dot(H.mat,uo) + np.random.normal(0.,sigmao,H.nobs)\n",
    "                                       \n",
    "# Initialization of background\n",
    "ub=np.cos(2*math.pi*xx)"
   ]
  },
  {
   "cell_type": "markdown",
   "metadata": {},
   "source": [
    "### Analysis"
   ]
  },
  {
   "cell_type": "code",
   "execution_count": null,
   "metadata": {
    "collapsed": true
   },
   "outputs": [],
   "source": [
    "# Initialization of Pf matrix and its sqare root\n",
    "    \n",
    "B = gausscov(nx,sigmab,Lb,2)\n",
    "Pf = B.mat\n",
    "Sf = B.sqr\n",
    "\n",
    "ua,Sa = analyseKF(ub,Sf,H.mat,yo,R)\n",
    "\n",
    "Pa = np.dot(Sa , Sa.T)"
   ]
  },
  {
   "cell_type": "markdown",
   "metadata": {},
   "source": [
    "### Plotting"
   ]
  },
  {
   "cell_type": "code",
   "execution_count": null,
   "metadata": {},
   "outputs": [],
   "source": [
    "%matplotlib notebook\n",
    "from IPython.display import clear_output, display, HTML\n",
    "\n",
    "import matplotlib.pyplot as plt\n",
    "from matplotlib.colors import BoundaryNorm\n",
    "from matplotlib.ticker import MaxNLocator\n",
    "\n",
    "f, axarr = plt.subplots(2, 2)\n",
    "\n",
    "axarr[0, 0].plot(xx,uo,'k-')\n",
    "axarr[0, 0].plot(xx,ub,'b-')\n",
    "axarr[0, 0].plot(xx,ua,'r-',linewidth=3)\n",
    "axarr[0, 0].plot(np.dot(H.mat,xx),yo,'kd')\n",
    "axarr[0, 0].legend(['True','Background','Analysis','Observations'])\n",
    "axarr[0, 0].set_title('BLUE analysis')\n",
    "\n",
    "axarr[0, 1].set_title('BLUE increment')\n",
    "axarr[0, 1].plot(xx,ua-ub,'m-',linewidth=3)\n",
    "axarr[0, 1].plot(np.dot(H.mat,xx),np.zeros(H.nobs),'kd')\n",
    "axarr[0, 1].legend(['Increment','Observations'])\n",
    "\n",
    "cmap = plt.get_cmap('PiYG')\n",
    "levels = MaxNLocator(nbins=15).tick_values(-Pf.max(), Pf.max())\n",
    "norm = BoundaryNorm(levels, ncolors=cmap.N, clip=True)\n",
    "axarr[1, 0].pcolormesh(xx, xx, Pf,cmap=cmap, norm=norm)\n",
    "axarr[1, 0].set_title('Pf')\n",
    "\n",
    "axarr[1, 1].pcolormesh(xx, xx, Pa,cmap=cmap, norm=norm)\n",
    "axarr[1, 1].set_title('Pa')\n",
    "plt.show()"
   ]
  }
 ],
 "metadata": {
  "kernelspec": {
   "display_name": "Python 3",
   "language": "python",
   "name": "python3"
  },
  "language_info": {
   "codemirror_mode": {
    "name": "ipython",
    "version": 3
   },
   "file_extension": ".py",
   "mimetype": "text/x-python",
   "name": "python",
   "nbconvert_exporter": "python",
   "pygments_lexer": "ipython3",
   "version": "3.6.2"
  }
 },
 "nbformat": 4,
 "nbformat_minor": 2
}
