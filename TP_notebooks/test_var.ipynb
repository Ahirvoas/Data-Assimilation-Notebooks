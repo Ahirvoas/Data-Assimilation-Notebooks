{
 "cells": [
  {
   "cell_type": "markdown",
   "metadata": {},
   "source": [
    "# Practical training - Variational Method\n",
    "## Testing the gradient\n",
    "\n",
    "the gradient itself can be tested, using the Taylor formula\n",
    "$$J(\\mathbf{x}+\\mathbf{h})=J(\\mathbf{x})+\\left<\\nabla_{\\mathbf{x}}J,\\mathbf{h}\\right>+o(\\|\\mathbf{h}\\|) \\qquad \\forall {\\bf h}\\in \\mathbb{R}^n$$\n",
    "\n",
    "So, in particular for $\\mathbf{h}=\\varepsilon\\nabla_{\\mathbf{x}}J$\n",
    "\n",
    "$$\\lim_{\\varepsilon\\rightarrow 0}\\frac{J(\\mathbf{x}+\\varepsilon\\nabla_{\\mathbf{x}}J) - J(\\mathbf{x})}{\\varepsilon\\|\\nabla_{\\mathbf{x}}J\\|^2}=1$$\n"
   ]
  },
  {
   "cell_type": "markdown",
   "metadata": {},
   "source": [
    "To do so, lets import the necessary modules"
   ]
  },
  {
   "cell_type": "code",
   "execution_count": null,
   "metadata": {
    "collapsed": true
   },
   "outputs": [],
   "source": [
    "from burgers import *\n",
    "from gausscov import *\n",
    "from simvar import *\n",
    "from obsopt import *\n",
    "import math\n"
   ]
  },
  {
   "cell_type": "markdown",
   "metadata": {},
   "source": [
    "And initialise the assimilation parameters and matrices"
   ]
  },
  {
   "cell_type": "code",
   "execution_count": null,
   "metadata": {},
   "outputs": [],
   "source": [
    "# Space-time domain\n",
    "nx = 40                     # number of grid points\n",
    "dx = 1./nx                  # space step\n",
    "xx = np.array(range(nx))*dx # grid points abscissa\n",
    "dt = 0.5*dx                 # time step\n",
    "nt = 20                     # number of time steps\n",
    "ns = 0                      # numerical scheme\n",
    "\n",
    "M=Burgers(nx,dx,dt,ns)\n",
    "\n"
   ]
  },
  {
   "cell_type": "code",
   "execution_count": null,
   "metadata": {
    "collapsed": true
   },
   "outputs": [],
   "source": [
    "# Error staristics\n",
    "sigmab = 0.01              # background state error std\n",
    "sigmao = 0.001             # Observation error std\n",
    "Lb = 0.05                  # Correlation length for B matrix\n",
    "\n",
    "# Assimilation Parameters\n",
    "\n",
    "precond = True              # preconditioning by square root of B \n",
    "iobstsub = 5                # Frequency of temporal subsampling of observations, [1:nt], 1=every time step\n",
    "iobsxsub = 4                # Frequency of spatial subsampling of observations, [1:nx], 1=every space step\n",
    "\n",
    "# Observation operator and error covariance matrix\n",
    "\n",
    "H = Obsopt(nx,iobsxsub,nt,iobstsub)\n",
    "R = sigmao*sigmao*np.eye(H.nobs,H.nobs)\n",
    "\n"
   ]
  },
  {
   "cell_type": "code",
   "execution_count": null,
   "metadata": {
    "collapsed": true
   },
   "outputs": [],
   "source": [
    "# Initialization of true field uo\n",
    "uo=np.sin(2*math.pi*xx);\n",
    "true=H.gen_obs(M,uo,sigmao)\n",
    "\n",
    "# Initialization of background\n",
    "ub=np.cos(2*math.pi*xx)\n",
    "ubkg=[ub]\n",
    "for it in range(nt):\n",
    "    ub=M.step(ub)\n",
    "    ubkg.append(ub)"
   ]
  },
  {
   "cell_type": "code",
   "execution_count": null,
   "metadata": {
    "collapsed": true
   },
   "outputs": [],
   "source": [
    "# Initialization of B matrix and its inverse\n",
    "\n",
    "if precond:\n",
    "    indic=2\n",
    "else:\n",
    "    indic=1\n",
    "    \n",
    "B=gausscov(nx,sigmab,Lb,indic)\n",
    "\n",
    "var=Variational(ubkg[0],nt,B,M,H,R,precond)\n"
   ]
  },
  {
   "cell_type": "markdown",
   "metadata": {},
   "source": [
    "So that we can compute $J(\\mathbf{x})$ and $\\nabla_{\\mathbf{x}}J$ for a random $\\mathbf{x}$"
   ]
  },
  {
   "cell_type": "code",
   "execution_count": null,
   "metadata": {},
   "outputs": [],
   "source": [
    "uopt= np.random.normal(0.,sigmab,uo.size)\n",
    "\n",
    "Jini  = var.cost(uopt)\n",
    "grini = var.grad(uopt)\n",
    "norm  = grini.dot(grini)"
   ]
  },
  {
   "cell_type": "markdown",
   "metadata": {},
   "source": [
    "And finally look at what happens when $\\alpha$ tends to 0"
   ]
  },
  {
   "cell_type": "code",
   "execution_count": null,
   "metadata": {},
   "outputs": [],
   "source": [
    "alpha=0.001\n",
    "\n",
    "for iii in range(1,21):\n",
    "    uctl = uopt + alpha * grini\n",
    "    J = var.cost(uctl)\n",
    "    print ('1e-'+str(iii+2).zfill(2), (J-Jini)/(alpha*norm))\n",
    "    alpha /= 10.\n"
   ]
  }
 ],
 "metadata": {
  "kernelspec": {
   "display_name": "Python 3",
   "language": "python",
   "name": "python3"
  },
  "language_info": {
   "codemirror_mode": {
    "name": "ipython",
    "version": 3
   },
   "file_extension": ".py",
   "mimetype": "text/x-python",
   "name": "python",
   "nbconvert_exporter": "python",
   "pygments_lexer": "ipython3",
   "version": "3.6.2"
  }
 },
 "nbformat": 4,
 "nbformat_minor": 2
}
